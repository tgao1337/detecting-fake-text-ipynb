{
 "cells": [
  {
   "cell_type": "code",
   "execution_count": 1,
   "metadata": {},
   "outputs": [],
   "source": [
    "import json\n",
    "#import jsonlines\n",
    "import pickle\n",
    "import pandas as pd\n",
    "import numpy as np\n",
    "from scipy.stats import entropy, chisquare, kstest, ks_2samp\n",
    "from scipy.spatial import distance\n",
    "from scipy.stats import epps_singleton_2samp, chi2_contingency\n",
    "\n",
    "import matplotlib\n",
    "import matplotlib.pyplot as plt\n",
    "# from sklearn.model_selection import LeaveOneOut\n",
    "# from sklearn.cross_validation import LeaveOneOut\n",
    "from sklearn.model_selection import KFold, LeaveOneOut\n",
    "from sklearn.metrics import mean_squared_error\n",
    "%matplotlib inline\n",
    "\n",
    "\n",
    "def get_top_k_count(real_topk, top1 = 10, top2 = 100, top3 = 1000):\n",
    "    # takes in the json part for real_topk and returns the counts of top1,2,3,4\n",
    "    # top4 is just whatever is past the last number, for example >1000\n",
    "    # returns list in order of top1 to top4 bins\n",
    "    t1 = 0\n",
    "    t2 = 0\n",
    "    t3 = 0\n",
    "    t4 = 0\n",
    "    for item in real_topk:\n",
    "        if(item[0] < top1):\n",
    "            t1 = t1 + 1\n",
    "        elif(item[0] < top2):\n",
    "            t2 = t2 + 1\n",
    "        elif(item[0] < top3):\n",
    "            t3 = t3 + 1\n",
    "        else:\n",
    "            t4 = t4 + 1\n",
    "    return [t1, t2, t3, t4]\n",
    "\n",
    "\n",
    "def get_top_k_count_from_file(json_file, top1 = 10, top2 = 100, top3 = 1000):\n",
    "    # takes in the json file and returns the counts of top1,2,3,4\n",
    "    # top4 is just whatever is past the last number, for example >1000\n",
    "    # returns list in order of top1 to top4 bins\n",
    "    return get_top_k_count(json_file[\"result\"][\"real_topk\"], top1, top2, top3)\n",
    "\n",
    "\n",
    "def get_frac_p(real_topk, pred_topk):\n",
    "    # takes in real_topk and pred_topk and returns list of\n",
    "    # frac(p)\n",
    "    res = []\n",
    "    for i in range(len(real_topk)):\n",
    "        res.append(real_topk[i][1] / pred_topk[i][0][1])\n",
    "    return res\n",
    "\n",
    "\n",
    "def fracp_bin_counter(fracp):\n",
    "    # takes in the list of all frac(p) and returns list of buckets from 0-1\n",
    "    # counting by 0.1\n",
    "    b0 = 0\n",
    "    b1 = 0\n",
    "    b2 = 0\n",
    "    b3 = 0\n",
    "    b4 = 0\n",
    "    b5 = 0\n",
    "    b6 = 0\n",
    "    b7 = 0\n",
    "    b8 = 0\n",
    "    b9 = 0\n",
    "\n",
    "    for val in fracp:\n",
    "        if(val <= 0.1):\n",
    "            b0 = b0 + 1\n",
    "        elif(val <= 0.2):\n",
    "            b1 = b1 + 1\n",
    "        elif(val <= 0.3):\n",
    "            b2 = b2 + 1\n",
    "        elif (val <= 0.4):\n",
    "            b3 = b3 + 1\n",
    "        elif (val <= 0.5):\n",
    "            b4 = b4 + 1\n",
    "        elif (val <= 0.6):\n",
    "            b5 = b5 + 1\n",
    "        elif (val <= 0.7):\n",
    "            b6 = b6 + 1\n",
    "        elif (val <= 0.8):\n",
    "            b7 = b7 + 1\n",
    "        elif (val <= 0.9):\n",
    "            b8 = b8 + 1\n",
    "        else:\n",
    "            b9 = b9 + 1\n",
    "    # print([b0, b1, b2, b3, b4, b5, b6, b7, b8, b9])\n",
    "    return [b0, b1, b2, b3, b4, b5, b6, b7, b8, b9]\n",
    "\n",
    "\n",
    "def fracp_bin_counter_from_file(json_file):\n",
    "    # takes json file (json structure) and returns bins count\n",
    "    rtk = json_file[\"result\"][\"real_topk\"]\n",
    "    ptk = json_file[\"result\"][\"pred_topk\"]\n",
    "    return fracp_bin_counter(get_frac_p(rtk, ptk))\n",
    "\n",
    "\n",
    "def zero_to_small_num(lst):\n",
    "    # takes a list and replaces all 0 with a small number\n",
    "    for i in range(len(lst)):\n",
    "        if lst[i] == 0:\n",
    "            lst[i] = 0.0000000000000000000001\n",
    "    return lst\n",
    "\n",
    "\n",
    "def get_kld(fp_bin1, fp_bin2):\n",
    "    # given two list of bin counts (10 long by default)\n",
    "    # returns KLD value\n",
    "    return entropy(fp_bin1, fp_bin2)\n",
    "\n",
    "\n",
    "def get_kld_from_json_file(file1, file2):\n",
    "    # given two json objects\n",
    "    # returns KLD value\n",
    "    # this skips a lot of steps to make it easier\n",
    "    realtk_1 = file1[\"result\"][\"real_topk\"]\n",
    "    predtk_1 = file1[\"result\"][\"pred_topk\"]\n",
    "    realtk_2 = file2[\"result\"][\"real_topk\"]\n",
    "    predtk_2 = file2[\"result\"][\"pred_topk\"]\n",
    "\n",
    "    bins1 = fracp_bin_counter(get_frac_p(realtk_1, predtk_1))\n",
    "    bins2 = fracp_bin_counter(get_frac_p(realtk_2, predtk_2))\n",
    "    print(str(bins1) + \"                   \" + str(bins2))\n",
    "    # bins1 = zero_to_small_num(bins1)\n",
    "    # bins2 = zero_to_small_num(bins2)\n",
    "    print(str(bins1) + \"                   \" + str(bins2))\n",
    "    return get_kld(bins1, bins2)\n",
    "\n",
    "\n",
    "def get_jsd(fp_bin1, fp_bin2):\n",
    "    # given two list of bin counts, (10 long by default)\n",
    "    # returns JSD value\n",
    "    return distance.jensenshannon(fp_bin1, fp_bin2)\n",
    "\n",
    "\n",
    "def compare_json_files_kld(filename1, filename2):\n",
    "    # given two file names, get json from it, then use kld\n",
    "    # returns list of all kld values\n",
    "    lst = []\n",
    "    with open(filename1) as f1:\n",
    "        d1 = json.load(f1)\n",
    "    with open(filename2) as f2:\n",
    "        d2 = json.load(f2)\n",
    "    print(str(len(d1))+\"       F2:\"+str(len(d2)))\n",
    "\n",
    "    for d1x in d1:\n",
    "        for d2x in d2:\n",
    "            # print(\"D1: \" + str(d1x) + \"           D2: \" + str(d2x))\n",
    "            lst.append(get_kld_from_json_file(d1x, d2x))\n",
    "            print(lst[-1])\n",
    "    return lst\n",
    "\n",
    "\n",
    "def list_of_fracp_from_file(filename):\n",
    "    # given a file name, get json from it, then return list\n",
    "    # returns list of 10 frac p bins\n",
    "    lst = []\n",
    "    with open(filename) as f1:\n",
    "        d1 = json.load(f1)\n",
    "#     print(d1)\n",
    "#     for d1x in d1:\n",
    "#         lst.append()\n",
    "    return fracp_bin_counter_from_file(d1)\n",
    "\n",
    "\n",
    "def list_of_fracp_from_jsonl_file(filename):\n",
    "    # given two file names of json lines, get json from it, then return list\n",
    "    # returns list of list of 10 frac p bins\n",
    "    lst = []\n",
    "    with jsonlines.open(filename) as reader:\n",
    "        for obj in reader:\n",
    "            lst.append(fracp_bin_counter_from_file(obj))\n",
    "    return lst\n",
    "\n",
    "\n",
    "def list_of_norm_fracp_from_file(filename):\n",
    "    # given two file names, get json from it, then return list\n",
    "    # returns list of list of 10 frac p bins that are normalized\n",
    "    lst = []\n",
    "    with open(filename) as f1:\n",
    "        d1 = json.load(f1)\n",
    "\n",
    "    for d1x in d1:\n",
    "        bins = fracp_bin_counter_from_file(d1x)\n",
    "        tot = sum(bins)\n",
    "        for i in range(10):\n",
    "            bins[i] = bins[i] / tot\n",
    "        print(sum(bins))\n",
    "        lst.append(bins)\n",
    "    return lst"
   ]
  },
  {
   "cell_type": "markdown",
   "metadata": {},
   "source": [
    "### List of pickles to use\n",
    "- \"fracp.GPT2-human-25000-pd-normalized.pickle\"\n",
    "- \"fracp.GPT2-machine-25000-pd-normalized.pickle\"\n",
    "- \"fracp.GROVER-human-15000-pd-normalized.pickle\"\n",
    "- \"fracp.GROVER-machine-10000-pd-normalized.pickle\"\n",
    "- \"fracp.GPT3-machine-485-pd-normalized.pickle\"\n",
    "\n",
    "Please note that each pickle may not contain the exact number specified in the name."
   ]
  },
  {
   "cell_type": "markdown",
   "metadata": {},
   "source": [
    "### Plotting Machine and Human results from GPT-2"
   ]
  },
  {
   "cell_type": "code",
   "execution_count": 2,
   "metadata": {
    "scrolled": false
   },
   "outputs": [
    {
     "data": {
      "text/plain": [
       "<matplotlib.axes._subplots.AxesSubplot at 0x149f77d5448>"
      ]
     },
     "execution_count": 2,
     "metadata": {},
     "output_type": "execute_result"
    },
    {
     "data": {
      "image/png": "[encoded data removed]",
      "text/plain": [
       "<Figure size 432x288 with 1 Axes>"
      ]
     },
     "metadata": {
      "needs_background": "light"
     },
     "output_type": "display_data"
    },
    {
     "data": {
      "image/png": "[encoded data removed]",
      "text/plain": [
       "<Figure size 432x288 with 1 Axes>"
      ]
     },
     "metadata": {
      "needs_background": "light"
     },
     "output_type": "display_data"
    }
   ],
   "source": [
    "observed = pd.read_pickle(\"fracp.GPT2-machine-25000-pd-normalized.pickle\")\n",
    "expected = pd.read_pickle(\"fracp.GPT2-human-25000-pd-normalized.pickle\")\n",
    "# print(observed)\n",
    "# print(expected)\n",
    "plt.title(\"Machine GPT2\")\n",
    "observed.boxplot()\n",
    "plt.subplots(0,2)\n",
    "plt.title(\"Human GPT2\")\n",
    "expected.boxplot()"
   ]
  },
  {
   "cell_type": "code",
   "execution_count": 3,
   "metadata": {},
   "outputs": [
    {
     "name": "stdout",
     "output_type": "stream",
     "text": [
      "Power_divergenceResult(statistic=0.031895314243821415, pvalue=0.999999999845967)\n"
     ]
    },
    {
     "data": {
      "text/plain": [
       "<matplotlib.legend.Legend at 0x149fe778508>"
      ]
     },
     "execution_count": 3,
     "metadata": {},
     "output_type": "execute_result"
    },
    {
     "data": {
      "image/png": "[encoded data removed]",
      "text/plain": [
       "<Figure size 432x288 with 1 Axes>"
      ]
     },
     "metadata": {
      "needs_background": "light"
     },
     "output_type": "display_data"
    }
   ],
   "source": [
    "observed_means = pd.read_pickle(\"fracp.GPT2-machine-25000-pd-normalized.pickle\").mean(axis=0)\n",
    "expected_means = pd.read_pickle(\"fracp.GPT2-human-25000-pd-normalized.pickle\").mean(axis=0)\n",
    "\n",
    "# if not using mean, need to replace expected 0 with small value to avoid div by 0\n",
    "# expected = pd.read_pickle(\"fracp.GPT2-human-25000-pd-normalized.pickle\").replace(0, 0.00000000000000000000000000000001)\n",
    "\n",
    "chi_res = chisquare(observed_means, expected_means, 0, 0)\n",
    "print(chi_res)\n",
    "plt.title(\"Mean of Mahcine vs Human GPT2\")\n",
    "observed_means.plot(label='Observed (Machine)')\n",
    "expected_means.plot(label='Expected (Human)')\n",
    "plt.legend()\n"
   ]
  },
  {
   "cell_type": "code",
   "execution_count": 7,
   "metadata": {},
   "outputs": [
    {
     "name": "stdout",
     "output_type": "stream",
     "text": [
      "Power_divergenceResult(statistic=0.41009215963000345, pvalue=0.9999870632009394)\n"
     ]
    },
    {
     "data": {
      "text/plain": [
       "<matplotlib.legend.Legend at 0x251a1c10388>"
      ]
     },
     "execution_count": 7,
     "metadata": {},
     "output_type": "execute_result"
    },
    {
     "data": {
      "image/png": "[encoded data removed]",
      "text/plain": [
       "<Figure size 432x288 with 1 Axes>"
      ]
     },
     "metadata": {
      "needs_background": "light"
     },
     "output_type": "display_data"
    }
   ],
   "source": [
    "# GLTR example\n",
    "machine = list_of_fracp_from_file('gpt_2_small_top40_t0.7.json')\n",
    "human = list_of_fracp_from_file('NYTimes.json')\n",
    "hum = pd.DataFrame(human).T\n",
    "mac = pd.DataFrame(machine).T\n",
    "hum = hum.div(hum.sum(axis=1), axis=0).mean(axis=0)\n",
    "mac = mac.div(mac.sum(axis=1), axis=0).mean(axis=0)\n",
    "\n",
    "# if not using mean, need to replace expected 0 with small value to avoid div by 0\n",
    "# expected = pd.read_pickle(\"fracp.GPT2-human-25000-pd-normalized.pickle\").replace(0, 0.00000000000000000000000000000001)\n",
    "\n",
    "chi_res = chisquare(mac, hum, 0, 0)\n",
    "print(chi_res)\n",
    "plt.title(\"Mean of gpt_2_small_top40_t0.7 vs Human NYTimes\")\n",
    "mac.plot(label='gpt_2_small_top40_t0.7 (Machine)')\n",
    "hum.plot(label='NYTimes (Human)')\n",
    "plt.legend()"
   ]
  },
  {
   "cell_type": "markdown",
   "metadata": {},
   "source": [
    "###                                Chi Squared Probabilities Table\n",
    "| df || 0.995 |  0.99 | 0.975 |  0.95 |  0.90 |   0.10 |   0.05 |  0.025 |   0.01 |  0.005 |\n",
    "|---:||------:|------:|------:|------:|------:|-------:|-------:|-------:|-------:|-------:|\n",
    "|  1 ||   --- |   --- | 0.001 | 0.004 | 0.016 |  2.706 |  3.841 |  5.024 |  6.635 |  7.879 |\n",
    "|  2 || 0.010 | 0.020 | 0.051 | 0.103 | 0.211 |  4.605 |  5.991 |  7.378 |  9.210 | 10.597 |\n",
    "|  3 || 0.072 | 0.115 | 0.216 | 0.352 | 0.584 |  6.251 |  7.815 |  9.348 | 11.345 | 12.838 |\n",
    "|  4 || 0.207 | 0.297 | 0.484 | 0.711 | 1.064 |  7.779 |  9.488 | 11.143 | 13.277 | 14.860 |\n",
    "|  5 || 0.412 | 0.554 | 0.831 | 1.145 | 1.610 |  9.236 | 11.070 | 12.833 | 15.086 | 16.750 |\n",
    "|  6 || 0.676 | 0.872 | 1.237 | 1.635 | 2.204 | 10.645 | 12.592 | 14.449 | 16.812 | 18.548 |\n",
    "|  7 || 0.989 | 1.239 | 1.690 | 2.167 | 2.833 | 12.017 | 14.067 | 16.013 | 18.475 | 20.278 |\n",
    "|  8 || 1.344 | 1.646 | 2.180 | 2.733 | 3.490 | 13.362 | 15.507 | 17.535 | 20.090 | 21.955 |\n",
    "|  9 || 1.735 | 2.088 | 2.700 | 3.325 | 4.168 | 14.684 | 16.919 | 19.023 | 21.666 | 23.589 |\n",
    "\n",
    "###### Source: https://people.richland.edu/james/lecture/m170/tbl-chi.html"
   ]
  },
  {
   "cell_type": "code",
   "execution_count": 4,
   "metadata": {},
   "outputs": [
    {
     "name": "stdout",
     "output_type": "stream",
     "text": [
      "LeaveOneOut()\n",
      "2\n",
      "TRAIN: [1] TEST: [0]\n",
      "[[3 4]] [[1 2]] [2] [1]\n",
      "TRAIN: [0] TEST: [1]\n",
      "[[1 2]] [[3 4]] [1] [2]\n"
     ]
    }
   ],
   "source": [
    "# example https://scikit-learn.org/stable/modules/generated/sklearn.model_selection.LeaveOneOut.html\n",
    "X = np.array([[1, 2], [3, 4]])\n",
    "y = np.array([1, 2])\n",
    "loo = LeaveOneOut()\n",
    "loo.get_n_splits(X)\n",
    "print(loo)\n",
    "print(loo.get_n_splits(X))\n",
    "for train_index, test_index in loo.split(X):\n",
    "    print(\"TRAIN:\", train_index, \"TEST:\", test_index)\n",
    "    X_train, X_test = X[train_index], X[test_index]\n",
    "    y_train, y_test = y[train_index], y[test_index]\n",
    "    print(X_train, X_test, y_train, y_test)"
   ]
  },
  {
   "cell_type": "code",
   "execution_count": 5,
   "metadata": {},
   "outputs": [],
   "source": [
    "# o_np = observed.to_numpy().tolist()\n",
    "# e_np = expected.to_numpy().tolist()\n",
    "# # print(len(o_np))\n",
    "# gpt_loo = LeaveOneOut()\n",
    "# n = gpt_loo.get_n_splits(e_np)\n",
    "# print(n)\n",
    "# for train_index, test_index in loo.split(e_np):\n",
    "#     print(\"TRAIN:\", train_index, \"TEST:\", test_index)\n",
    "#     X_train, X_test = e_np[train_index], e_np[test_index]\n",
    "#     y_train, y_test = o_np[train_index], o_np[test_index]\n",
    "#     print(X_train, X_test, y_train, y_test)"
   ]
  },
  {
   "cell_type": "code",
   "execution_count": 3,
   "metadata": {},
   "outputs": [],
   "source": [
    "def is_chisqr_independent(observed, expected, ddof = 0, axis = 0):\n",
    "    chi_res = chisquare(observed, expected, ddof, axis)\n",
    "    stat = chi_res[0]\n",
    "    pval = chi_res[1]\n",
    "    return chi_res\n",
    "\n",
    "def average_prediction(obsa, expa):\n",
    "    adf = pd.DataFrame(expa).mean(axis=0).append(pd.DataFrame(obsa).mean(axis=0))\n",
    "    ret = adf.mean(axis=0)\n",
    "    return ret\n",
    "\n",
    "\n",
    "'''Calculates the cross validation chi squared values. If the dataset\n",
    "is large, uses 10-fold cross validation. Otherwise, uses leave-one-out cross\n",
    "validation. algorithm is a function that takes in X and y and returns a model (not used for now).\n",
    "'''\n",
    "def get_cross_validation_error_meanx(algorithm, X, y):\n",
    "    print(X)\n",
    "    print(type(X))\n",
    "    print(\"This is X\")\n",
    "    print(\"============\")\n",
    "    stat = []\n",
    "    pv = []\n",
    "    if len(y) > 10000:\n",
    "        print('Data contains more than 10000 rows. Using 10-fold cross validation...')\n",
    "        splitter = KFold(n_splits=10, shuffle=True, random_state=4294967295) #2**32 - 1\n",
    "        \n",
    "    else:\n",
    "        print('Using leave-one-out cross validation...')\n",
    "        splitter = LeaveOneOut()\n",
    "    \n",
    "    for train_indices, test_indices in splitter.split(y):\n",
    "        \n",
    "        train_y = y[train_indices]\n",
    "\n",
    "        test_y = y[test_indices]\n",
    "\n",
    "        mse = is_chisqr_independent(test_y.mean(axis=0), X.mean(axis=0))\n",
    "        stat.append(mse[0])\n",
    "        pv.append(mse[1])\n",
    "    return [stat, pv]\n",
    "#     return sqrt(sum(errors) / len(errors))\n",
    "\n",
    "def get_cross_validation_error(algorithm, X, y):\n",
    "\n",
    "    stat = []\n",
    "    pv = []\n",
    "    if len(y) > 10000:\n",
    "        print('Data contains more than 10000 rows. Using 10-fold cross validation...')\n",
    "        splitter = KFold(n_splits=10, shuffle=True, random_state=4294967295) #2**32 - 1\n",
    "        \n",
    "    else:\n",
    "        print('Using leave-one-out cross validation...')\n",
    "        splitter = LeaveOneOut()\n",
    "    \n",
    "    for train_indices, test_indices in splitter.split(y):\n",
    "\n",
    "        train_X, train_y = X[train_indices], y[train_indices]\n",
    "\n",
    "        test_y = y[test_indices]\n",
    "\n",
    "        model = train_X.mean(axis=0)\n",
    "\n",
    "        mse = is_chisqr_independent(test_y.mean(axis=0), model)\n",
    "        stat.append(mse[0])\n",
    "        pv.append(mse[1])\n",
    "\n",
    "    return [stat, pv]\n",
    "\n",
    "\n",
    "def tempname(observed, expected):\n",
    "    pass"
   ]
  },
  {
   "cell_type": "code",
   "execution_count": 4,
   "metadata": {
    "scrolled": true
   },
   "outputs": [
    {
     "name": "stdout",
     "output_type": "stream",
     "text": [
      "Data contains more than 10000 rows. Using 10-fold cross validation...\n",
      "[[0.03224284518190431, 0.03158551807266718, 0.03266195757723006, 0.0319100917829866, 0.031273161303092135, 0.03099044142004586, 0.031979460998488925, 0.03201755822945258, 0.03225412374359099, 0.032316403868990984], [0.9999999998382921, 0.9999999998525673, 0.9999999998286451, 0.9999999998456465, 0.9999999998589977, 0.9999999998646282, 0.9999999998441352, 0.9999999998433003, 0.9999999998380381, 0.9999999998366302]]\n"
     ]
    }
   ],
   "source": [
    "obs = pd.read_pickle(\"fracp.GPT2-machine-25000-pd-normalized.pickle\")\n",
    "expected_means = pd.read_pickle(\"fracp.GPT2-human-25000-pd-normalized.pickle\")\n",
    "# print(len(obs))\n",
    "# print(type(expected_means))\n",
    "#print(is_chisqr_independent(obs.mean(axis=0), expected_means))\n",
    "# err = get_cross_validation_error(average_prediction, expected_means.to_numpy(), obs.to_numpy())\n",
    "######err = get_cross_validation_error_meanx(average_prediction, expected_means.to_numpy(), obs.to_numpy())\n",
    "err = get_cross_validation_error(average_prediction, expected_means.to_numpy(), obs.to_numpy())\n",
    "print(err)"
   ]
  },
  {
   "cell_type": "code",
   "execution_count": 61,
   "metadata": {},
   "outputs": [
    {
     "name": "stdout",
     "output_type": "stream",
     "text": [
      "human: NYTimes article\n",
      "     0   1   2   3  4  5  6  7  8    9\n",
      "0  132  22  16  14  6  5  8  7  6  179\n",
      "\n",
      "machine: GPT-2 small top_k 40 temp .7\n",
      "    0   1   2   3   4   5   6   7   8    9\n",
      "0  30  36  30  27  18  18  11  13  17  267\n",
      "\n",
      "chi squared:\n",
      "Power_divergenceResult(statistic=array([0.41009216]), pvalue=array([0.99998706]))\n",
      "\n",
      "chi squared:\n",
      "Power_divergenceResult(statistic=array([0.]), pvalue=array([1.]))\n"
     ]
    }
   ],
   "source": [
    "machine = list_of_fracp_from_file('gpt_2_small_top40_t0.7.json')\n",
    "human = list_of_fracp_from_file('NYTimes.json')\n",
    "hum = pd.DataFrame(human).T\n",
    "mac = pd.DataFrame(machine).T\n",
    "print(\"human: NYTimes article\")\n",
    "print((hum))\n",
    "print(\"\\nmachine: GPT-2 small top_k 40 temp .7\")\n",
    "print(mac)\n",
    "hum = hum.div(hum.sum(axis=1), axis=0)\n",
    "mac = mac.div(mac.sum(axis=1), axis=0)\n",
    "print(\"\\nchi squared:\")\n",
    "\n",
    "chi = is_chisqr_independent(mac, hum, 0, 1)\n",
    "print(chi)\n",
    "\n",
    "print(\"\\nchi squared:\")\n",
    "\n",
    "chi = is_chisqr_independent(hum, hum, 0, 1)\n",
    "print(chi)"
   ]
  },
  {
   "cell_type": "code",
   "execution_count": 15,
   "metadata": {},
   "outputs": [
    {
     "name": "stdout",
     "output_type": "stream",
     "text": [
      "24999.0\n"
     ]
    }
   ],
   "source": [
    "print(sum(obs.sum(axis=1)))\n"
   ]
  },
  {
   "cell_type": "markdown",
   "metadata": {},
   "source": [
    "### KS 2 Sample"
   ]
  },
  {
   "cell_type": "code",
   "execution_count": 2,
   "metadata": {},
   "outputs": [
    {
     "name": "stdout",
     "output_type": "stream",
     "text": [
      "Observed means: \n",
      "0    0.252817\n",
      "1    0.092357\n",
      "2    0.057768\n",
      "3    0.042338\n",
      "4    0.032955\n",
      "5    0.027230\n",
      "6    0.023949\n",
      "7    0.019768\n",
      "8    0.017406\n",
      "9    0.433411\n",
      "dtype: float64\n",
      "\n",
      "\n",
      "Expected means: \n",
      "0    0.319416\n",
      "1    0.070366\n",
      "2    0.044730\n",
      "3    0.033380\n",
      "4    0.026586\n",
      "5    0.022175\n",
      "6    0.019452\n",
      "7    0.016502\n",
      "8    0.014535\n",
      "9    0.432857\n",
      "dtype: float64\n",
      "\n",
      "Ks_2sampResult(statistic=0.2, pvalue=0.9944575548290717)\n",
      "\n",
      "\n",
      "\n",
      "human: NYTimes article\n",
      "0    0.334177\n",
      "1    0.055696\n",
      "2    0.040506\n",
      "3    0.035443\n",
      "4    0.015190\n",
      "5    0.012658\n",
      "6    0.020253\n",
      "7    0.017722\n",
      "8    0.015190\n",
      "9    0.453165\n",
      "dtype: float64\n",
      "\n",
      "machine: GPT-2 small top_k 40 temp .7\n",
      "0    0.064240\n",
      "1    0.077088\n",
      "2    0.064240\n",
      "3    0.057816\n",
      "4    0.038544\n",
      "5    0.038544\n",
      "6    0.023555\n",
      "7    0.027837\n",
      "8    0.036403\n",
      "9    0.571734\n",
      "dtype: float64\n",
      "Ks_2sampResult(statistic=0.5, pvalue=0.16782134274394334)\n"
     ]
    }
   ],
   "source": [
    "obs = pd.read_pickle(\"fracp.GPT2-machine-25000-pd-normalized.pickle\")\n",
    "exp = pd.read_pickle(\"fracp.GPT2-human-25000-pd-normalized.pickle\")\n",
    "obs_mean = obs.mean(axis=0)\n",
    "exp_mean = exp.mean(axis=0)\n",
    "print(\"Observed means: \\n\" + str(obs_mean) + \"\\n\\n\")\n",
    "print(\"Expected means: \\n\" + str(exp_mean) + \"\\n\")\n",
    "\n",
    "ks2samp = ks_2samp(obs_mean, exp_mean)\n",
    "print(ks2samp)\n",
    "print(\"\\n\\n\")\n",
    "\n",
    "# GLTR example\n",
    "machine = list_of_fracp_from_file('gpt_2_small_top40_t0.7.json')\n",
    "human = list_of_fracp_from_file('NYTimes.json')\n",
    "hum = pd.DataFrame(human).T\n",
    "mac = pd.DataFrame(machine).T\n",
    "hum = hum.div(hum.sum(axis=1), axis=0).mean(axis=0)\n",
    "mac = mac.div(mac.sum(axis=1), axis=0).mean(axis=0)\n",
    "print(\"human: NYTimes article\")\n",
    "print((hum))\n",
    "print(\"\\nmachine: GPT-2 small top_k 40 temp .7\")\n",
    "print(mac)\n",
    "\n",
    "ks2samp_gltr = ks_2samp(mac, hum)\n",
    "print(ks2samp_gltr)"
   ]
  },
  {
   "cell_type": "code",
   "execution_count": 49,
   "metadata": {},
   "outputs": [
    {
     "name": "stdout",
     "output_type": "stream",
     "text": [
      "Observed means: \n",
      "0    0.04\n",
      "1    0.03\n",
      "2    0.02\n",
      "3    0.01\n",
      "4    0.01\n",
      "5    0.01\n",
      "6    0.01\n",
      "7    0.01\n",
      "8    0.01\n",
      "9    0.85\n",
      "dtype: float64\n",
      "\n",
      "\n",
      "Expected means: \n",
      "0    0.319416\n",
      "1    0.070366\n",
      "2    0.044730\n",
      "3    0.033380\n",
      "4    0.026586\n",
      "5    0.022175\n",
      "6    0.019452\n",
      "7    0.016502\n",
      "8    0.014535\n",
      "9    0.432857\n",
      "dtype: float64\n",
      "\n",
      "\n",
      "Ks_2sampResult(statistic=0.6, pvalue=0.05244755244755244)\n"
     ]
    }
   ],
   "source": [
    "obs = pd.DataFrame([.04, .03, .02, .01, .01, .01, .01, .01, .01, .85]).T\n",
    "exp = pd.read_pickle(\"fracp.GPT2-human-25000-pd-normalized.pickle\")\n",
    "obs_mean = obs.mean(axis=0)\n",
    "exp_mean = exp.mean(axis=0)\n",
    "print(\"Observed means: \\n\" + str(obs_mean) + \"\\n\\n\")\n",
    "print(\"Expected means: \\n\" + str(exp_mean) + \"\\n\\n\")\n",
    "\n",
    "ks2samp = ks_2samp(obs_mean, exp_mean)\n",
    "print(ks2samp)"
   ]
  },
  {
   "cell_type": "markdown",
   "metadata": {},
   "source": [
    "### EPPS"
   ]
  },
  {
   "cell_type": "code",
   "execution_count": 5,
   "metadata": {},
   "outputs": [
    {
     "name": "stdout",
     "output_type": "stream",
     "text": [
      "Observed means: \n",
      "0    0.252817\n",
      "1    0.092357\n",
      "2    0.057768\n",
      "3    0.042338\n",
      "4    0.032955\n",
      "5    0.027230\n",
      "6    0.023949\n",
      "7    0.019768\n",
      "8    0.017406\n",
      "9    0.433411\n",
      "dtype: float64\n",
      "\n",
      "\n",
      "Expected means: \n",
      "0    0.319416\n",
      "1    0.070366\n",
      "2    0.044730\n",
      "3    0.033380\n",
      "4    0.026586\n",
      "5    0.022175\n",
      "6    0.019452\n",
      "7    0.016502\n",
      "8    0.014535\n",
      "9    0.432857\n",
      "dtype: float64\n",
      "\n",
      "Epps_Singleton_2sampResult(statistic=1.8252281788518971, pvalue=0.7678636122011705)\n",
      "\n",
      "\n",
      "\n",
      "human: NYTimes article\n",
      "0    0.334177\n",
      "1    0.055696\n",
      "2    0.040506\n",
      "3    0.035443\n",
      "4    0.015190\n",
      "5    0.012658\n",
      "6    0.020253\n",
      "7    0.017722\n",
      "8    0.015190\n",
      "9    0.453165\n",
      "dtype: float64\n",
      "\n",
      "machine: GPT-2 small top_k 40 temp .7\n",
      "0    0.064240\n",
      "1    0.077088\n",
      "2    0.064240\n",
      "3    0.057816\n",
      "4    0.038544\n",
      "5    0.038544\n",
      "6    0.023555\n",
      "7    0.027837\n",
      "8    0.036403\n",
      "9    0.571734\n",
      "dtype: float64\n",
      "Epps_Singleton_2sampResult(statistic=8.253767800872446, pvalue=0.08271239139991979)\n"
     ]
    }
   ],
   "source": [
    "obs = pd.read_pickle(\"fracp.GPT2-machine-25000-pd-normalized.pickle\")\n",
    "exp = pd.read_pickle(\"fracp.GPT2-human-25000-pd-normalized.pickle\")\n",
    "obs_mean = obs.mean(axis=0)\n",
    "exp_mean = exp.mean(axis=0)\n",
    "print(\"Observed means: \\n\" + str(obs_mean) + \"\\n\\n\")\n",
    "print(\"Expected means: \\n\" + str(exp_mean) + \"\\n\")\n",
    "\n",
    "epps = epps_singleton_2samp(obs_mean, exp_mean)\n",
    "print(epps)\n",
    "print(\"\\n\\n\")\n",
    "\n",
    "# GLTR example\n",
    "machine = list_of_fracp_from_file('gpt_2_small_top40_t0.7.json')\n",
    "human = list_of_fracp_from_file('NYTimes.json')\n",
    "hum = pd.DataFrame(human).T\n",
    "mac = pd.DataFrame(machine).T\n",
    "hum = hum.div(hum.sum(axis=1), axis=0).mean(axis=0)\n",
    "mac = mac.div(mac.sum(axis=1), axis=0).mean(axis=0)\n",
    "print(\"human: NYTimes article\")\n",
    "print((hum))\n",
    "print(\"\\nmachine: GPT-2 small top_k 40 temp .7\")\n",
    "print(mac)\n",
    "\n",
    "epps_gltr = epps_singleton_2samp(mac, hum, (.4,.8))\n",
    "print(epps_gltr)"
   ]
  },
  {
   "cell_type": "markdown",
   "metadata": {},
   "source": [
    "### Chi2_contingency (probably wrong)"
   ]
  },
  {
   "cell_type": "code",
   "execution_count": 92,
   "metadata": {},
   "outputs": [
    {
     "name": "stdout",
     "output_type": "stream",
     "text": [
      "Observed means: \n",
      "0    0.252817\n",
      "1    0.092357\n",
      "2    0.057768\n",
      "3    0.042338\n",
      "4    0.032955\n",
      "5    0.027230\n",
      "6    0.023949\n",
      "7    0.019768\n",
      "8    0.017406\n",
      "9    0.433411\n",
      "dtype: float64\n",
      "\n",
      "\n",
      "Expected means: \n",
      "0    0.319416\n",
      "1    0.070366\n",
      "2    0.044730\n",
      "3    0.033380\n",
      "4    0.026586\n",
      "5    0.022175\n",
      "6    0.019452\n",
      "7    0.016502\n",
      "8    0.014535\n",
      "9    0.432857\n",
      "dtype: float64\n",
      "\n",
      "          0         1         2         3         4         5         6  \\\n",
      "0  0.252817  0.092357  0.057768  0.042338  0.032955  0.027230  0.023949   \n",
      "1  0.319416  0.070366  0.044730  0.033380  0.026586  0.022175  0.019452   \n",
      "\n",
      "          7         8         9  \n",
      "0  0.019768  0.017406  0.433411  \n",
      "1  0.016502  0.014535  0.432857  \n",
      "\n",
      "\n",
      "\n",
      "(0.015658382760002428, 0.9999999999936892, 9, array([[0.28611677, 0.08136163, 0.0512491 , 0.03785868, 0.02977017,\n",
      "        0.02470281, 0.02170094, 0.01813483, 0.01597072, 0.43313435],\n",
      "       [0.28611677, 0.08136163, 0.0512491 , 0.03785868, 0.02977017,\n",
      "        0.02470281, 0.02170094, 0.01813483, 0.01597072, 0.43313435]]))\n",
      "\n",
      "\n",
      "\n",
      "human: NYTimes article\n",
      "0    0.334177\n",
      "1    0.055696\n",
      "2    0.040506\n",
      "3    0.035443\n",
      "4    0.015190\n",
      "5    0.012658\n",
      "6    0.020253\n",
      "7    0.017722\n",
      "8    0.015190\n",
      "9    0.453165\n",
      "dtype: float64\n",
      "\n",
      "machine: GPT-2 small top_k 40 temp .7\n",
      "0    0.064240\n",
      "1    0.077088\n",
      "2    0.064240\n",
      "3    0.057816\n",
      "4    0.038544\n",
      "5    0.038544\n",
      "6    0.023555\n",
      "7    0.027837\n",
      "8    0.036403\n",
      "9    0.571734\n",
      "dtype: float64\n",
      "          0         1         2         3         4         5         6  \\\n",
      "0  0.064240  0.077088  0.064240  0.057816  0.038544  0.038544  0.023555   \n",
      "1  0.334177  0.055696  0.040506  0.035443  0.015190  0.012658  0.020253   \n",
      "\n",
      "          7         8         9  \n",
      "0  0.027837  0.036403  0.571734  \n",
      "1  0.017722  0.015190  0.453165  \n",
      "\n",
      "\n",
      "\n",
      "(0.245251142553632, 0.9999986314508209, 9, array([[0.19920852, 0.066392  , 0.05237308, 0.04662944, 0.02686689,\n",
      "        0.02560106, 0.02190388, 0.02277939, 0.02579622, 0.51244952],\n",
      "       [0.19920852, 0.066392  , 0.05237308, 0.04662944, 0.02686689,\n",
      "        0.02560106, 0.02190388, 0.02277939, 0.02579622, 0.51244952]]))\n"
     ]
    }
   ],
   "source": [
    "obs = pd.read_pickle(\"fracp.GPT2-machine-25000-pd-normalized.pickle\")\n",
    "exp = pd.read_pickle(\"fracp.GPT2-human-25000-pd-normalized.pickle\")\n",
    "obs_mean = obs.mean(axis=0)\n",
    "exp_mean = exp.mean(axis=0)\n",
    "print(\"Observed means: \\n\" + str(obs_mean) + \"\\n\\n\")\n",
    "print(\"Expected means: \\n\" + str(exp_mean) + \"\\n\")\n",
    "\n",
    "contable = obs_mean.to_frame().T.append(exp_mean.to_frame().T, ignore_index=True)\n",
    "print(contable)\n",
    "print(\"\\n\\n\")\n",
    "\n",
    "\n",
    "chi2 = chi2_contingency(contable)\n",
    "print(chi2)\n",
    "print(\"\\n\\n\")\n",
    "\n",
    "# GLTR example\n",
    "machine = list_of_fracp_from_file('gpt_2_small_top40_t0.7.json')\n",
    "human = list_of_fracp_from_file('NYTimes.json')\n",
    "hum = pd.DataFrame(human).T\n",
    "mac = pd.DataFrame(machine).T\n",
    "hum = hum.div(hum.sum(axis=1), axis=0).mean(axis=0)\n",
    "mac = mac.div(mac.sum(axis=1), axis=0).mean(axis=0)\n",
    "print(\"human: NYTimes article\")\n",
    "print((hum))\n",
    "print(\"\\nmachine: GPT-2 small top_k 40 temp .7\")\n",
    "print(mac)\n",
    "\n",
    "contable2 = mac.to_frame().T.append(hum.to_frame().T, ignore_index=True)\n",
    "print(contable2)\n",
    "print(\"\\n\\n\")\n",
    "\n",
    "chi2_gltr = chi2_contingency(contable2)\n",
    "print(chi2_gltr)"
   ]
  },
  {
   "cell_type": "markdown",
   "metadata": {},
   "source": [
    "### Chi2_contingency"
   ]
  },
  {
   "cell_type": "code",
   "execution_count": 3,
   "metadata": {},
   "outputs": [
    {
     "name": "stdout",
     "output_type": "stream",
     "text": [
      "(108.97633673115413, 2.37560454249525e-19, 9, array([[ 87.76566125,  31.42227378,  24.92111369,  22.21229698,\n",
      "         13.00232019,  12.46055684,  10.29350348,  10.83526682,\n",
      "         12.46055684, 241.62645012],\n",
      "       [ 74.23433875,  26.57772622,  21.07888631,  18.78770302,\n",
      "         10.99767981,  10.53944316,   8.70649652,   9.16473318,\n",
      "         10.53944316, 204.37354988]]))\n"
     ]
    }
   ],
   "source": [
    "contab = [[30, 36, 30, 27, 18, 18, 11, 13, 17, 267], [132, 22, 16, 14, 6, 5, 8, 7, 6, 179]]\n",
    "chi2_maunal = chi2_contingency(contab)\n",
    "print(chi2_maunal)\n",
    "# contab = [[30, 36, 30, 27, 18, 18, 11, 13, 17, 267], [30, 36, 30, 27, 18, 18, 11, 13, 17, 267]]\n",
    "# chi2_maunal = chi2_contingency(contab)\n",
    "# print(chi2_maunal)"
   ]
  },
  {
   "cell_type": "markdown",
   "metadata": {},
   "source": [
    "### KLD"
   ]
  },
  {
   "cell_type": "code",
   "execution_count": 3,
   "metadata": {},
   "outputs": [
    {
     "name": "stdout",
     "output_type": "stream",
     "text": [
      "0.33904664098400505\n",
      "0.23667375171265698\n",
      "0.015713180294480437\n",
      "0.015753999123290303\n"
     ]
    }
   ],
   "source": [
    "print(get_kld(hum, mac))\n",
    "print(get_kld(mac, hum)) # p is observed and q is model\n",
    "print(get_kld(exp_mean, obs_mean))\n",
    "print(get_kld(obs_mean, exp_mean)) # p is observed and q is model"
   ]
  },
  {
   "cell_type": "code",
   "execution_count": 10,
   "metadata": {},
   "outputs": [
    {
     "name": "stdout",
     "output_type": "stream",
     "text": [
      "0.001353816033081998\n",
      "0.017810191308788637\n"
     ]
    }
   ],
   "source": [
    "obs_grover = pd.read_pickle(\"fracp.GROVER-machine-10000-pd-normalized.pickle\")\n",
    "exp_grover = pd.read_pickle(\"fracp.GROVER-human-15000-pd-normalized.pickle\")\n",
    "obs_grover_mean = obs_grover.mean(axis=0)\n",
    "exp_grover_mean = exp_grover.mean(axis=0)\n",
    "\n",
    "print(get_kld(obs_grover_mean, exp_grover_mean))\n",
    "print(get_kld(obs_mean, exp_grover_mean))\n"
   ]
  },
  {
   "cell_type": "code",
   "execution_count": null,
   "metadata": {},
   "outputs": [],
   "source": [
    "\n"
   ]
  }
 ],
 "metadata": {
  "kernelspec": {
   "display_name": "Python 3",
   "language": "python",
   "name": "python3"
  },
  "language_info": {
   "codemirror_mode": {
    "name": "ipython",
    "version": 3
   },
   "file_extension": ".py",
   "mimetype": "text/x-python",
   "name": "python",
   "nbconvert_exporter": "python",
   "pygments_lexer": "ipython3",
   "version": "3.7.6"
  }
 },
 "nbformat": 4,
 "nbformat_minor": 4
}
